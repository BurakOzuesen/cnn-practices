{
  "nbformat": 4,
  "nbformat_minor": 0,
  "metadata": {
    "colab": {
      "name": "BBM418-Ass4.ipynb",
      "provenance": [],
      "toc_visible": true
    },
    "kernelspec": {
      "name": "python3",
      "display_name": "Python 3"
    },
    "language_info": {
      "name": "python"
    },
    "accelerator": "GPU",
    "widgets": {
      "application/vnd.jupyter.widget-state+json": {
        "6e9ddb990cc841078b5bf1c0f609d36a": {
          "model_module": "@jupyter-widgets/controls",
          "model_name": "HBoxModel",
          "state": {
            "_view_name": "HBoxView",
            "_dom_classes": [],
            "_model_name": "HBoxModel",
            "_view_module": "@jupyter-widgets/controls",
            "_model_module_version": "1.5.0",
            "_view_count": null,
            "_view_module_version": "1.5.0",
            "box_style": "",
            "layout": "IPY_MODEL_acbc42fc2eba4aaa846fdfe859273e57",
            "_model_module": "@jupyter-widgets/controls",
            "children": [
              "IPY_MODEL_3c25eada2e754f1e91c7ae30751f9157",
              "IPY_MODEL_e134a2a6cf6340ad94c5a277629cc76f"
            ]
          }
        },
        "acbc42fc2eba4aaa846fdfe859273e57": {
          "model_module": "@jupyter-widgets/base",
          "model_name": "LayoutModel",
          "state": {
            "_view_name": "LayoutView",
            "grid_template_rows": null,
            "right": null,
            "justify_content": null,
            "_view_module": "@jupyter-widgets/base",
            "overflow": null,
            "_model_module_version": "1.2.0",
            "_view_count": null,
            "flex_flow": null,
            "width": null,
            "min_width": null,
            "border": null,
            "align_items": null,
            "bottom": null,
            "_model_module": "@jupyter-widgets/base",
            "top": null,
            "grid_column": null,
            "overflow_y": null,
            "overflow_x": null,
            "grid_auto_flow": null,
            "grid_area": null,
            "grid_template_columns": null,
            "flex": null,
            "_model_name": "LayoutModel",
            "justify_items": null,
            "grid_row": null,
            "max_height": null,
            "align_content": null,
            "visibility": null,
            "align_self": null,
            "height": null,
            "min_height": null,
            "padding": null,
            "grid_auto_rows": null,
            "grid_gap": null,
            "max_width": null,
            "order": null,
            "_view_module_version": "1.2.0",
            "grid_template_areas": null,
            "object_position": null,
            "object_fit": null,
            "grid_auto_columns": null,
            "margin": null,
            "display": null,
            "left": null
          }
        },
        "3c25eada2e754f1e91c7ae30751f9157": {
          "model_module": "@jupyter-widgets/controls",
          "model_name": "FloatProgressModel",
          "state": {
            "_view_name": "ProgressView",
            "style": "IPY_MODEL_dd27a746aeaa4f3887c6a61addb4098a",
            "_dom_classes": [],
            "description": "100%",
            "_model_name": "FloatProgressModel",
            "bar_style": "success",
            "max": 46827520,
            "_view_module": "@jupyter-widgets/controls",
            "_model_module_version": "1.5.0",
            "value": 46827520,
            "_view_count": null,
            "_view_module_version": "1.5.0",
            "orientation": "horizontal",
            "min": 0,
            "description_tooltip": null,
            "_model_module": "@jupyter-widgets/controls",
            "layout": "IPY_MODEL_70a1e4f0a3e3487fb343467cd6847a5a"
          }
        },
        "e134a2a6cf6340ad94c5a277629cc76f": {
          "model_module": "@jupyter-widgets/controls",
          "model_name": "HTMLModel",
          "state": {
            "_view_name": "HTMLView",
            "style": "IPY_MODEL_92622aa713164096ae7241ad8a78b9e4",
            "_dom_classes": [],
            "description": "",
            "_model_name": "HTMLModel",
            "placeholder": "​",
            "_view_module": "@jupyter-widgets/controls",
            "_model_module_version": "1.5.0",
            "value": " 44.7M/44.7M [1:14:27&lt;00:00, 10.5kB/s]",
            "_view_count": null,
            "_view_module_version": "1.5.0",
            "description_tooltip": null,
            "_model_module": "@jupyter-widgets/controls",
            "layout": "IPY_MODEL_6004fd38052449b9b22ee53211eb504a"
          }
        },
        "dd27a746aeaa4f3887c6a61addb4098a": {
          "model_module": "@jupyter-widgets/controls",
          "model_name": "ProgressStyleModel",
          "state": {
            "_view_name": "StyleView",
            "_model_name": "ProgressStyleModel",
            "description_width": "initial",
            "_view_module": "@jupyter-widgets/base",
            "_model_module_version": "1.5.0",
            "_view_count": null,
            "_view_module_version": "1.2.0",
            "bar_color": null,
            "_model_module": "@jupyter-widgets/controls"
          }
        },
        "70a1e4f0a3e3487fb343467cd6847a5a": {
          "model_module": "@jupyter-widgets/base",
          "model_name": "LayoutModel",
          "state": {
            "_view_name": "LayoutView",
            "grid_template_rows": null,
            "right": null,
            "justify_content": null,
            "_view_module": "@jupyter-widgets/base",
            "overflow": null,
            "_model_module_version": "1.2.0",
            "_view_count": null,
            "flex_flow": null,
            "width": null,
            "min_width": null,
            "border": null,
            "align_items": null,
            "bottom": null,
            "_model_module": "@jupyter-widgets/base",
            "top": null,
            "grid_column": null,
            "overflow_y": null,
            "overflow_x": null,
            "grid_auto_flow": null,
            "grid_area": null,
            "grid_template_columns": null,
            "flex": null,
            "_model_name": "LayoutModel",
            "justify_items": null,
            "grid_row": null,
            "max_height": null,
            "align_content": null,
            "visibility": null,
            "align_self": null,
            "height": null,
            "min_height": null,
            "padding": null,
            "grid_auto_rows": null,
            "grid_gap": null,
            "max_width": null,
            "order": null,
            "_view_module_version": "1.2.0",
            "grid_template_areas": null,
            "object_position": null,
            "object_fit": null,
            "grid_auto_columns": null,
            "margin": null,
            "display": null,
            "left": null
          }
        },
        "92622aa713164096ae7241ad8a78b9e4": {
          "model_module": "@jupyter-widgets/controls",
          "model_name": "DescriptionStyleModel",
          "state": {
            "_view_name": "StyleView",
            "_model_name": "DescriptionStyleModel",
            "description_width": "",
            "_view_module": "@jupyter-widgets/base",
            "_model_module_version": "1.5.0",
            "_view_count": null,
            "_view_module_version": "1.2.0",
            "_model_module": "@jupyter-widgets/controls"
          }
        },
        "6004fd38052449b9b22ee53211eb504a": {
          "model_module": "@jupyter-widgets/base",
          "model_name": "LayoutModel",
          "state": {
            "_view_name": "LayoutView",
            "grid_template_rows": null,
            "right": null,
            "justify_content": null,
            "_view_module": "@jupyter-widgets/base",
            "overflow": null,
            "_model_module_version": "1.2.0",
            "_view_count": null,
            "flex_flow": null,
            "width": null,
            "min_width": null,
            "border": null,
            "align_items": null,
            "bottom": null,
            "_model_module": "@jupyter-widgets/base",
            "top": null,
            "grid_column": null,
            "overflow_y": null,
            "overflow_x": null,
            "grid_auto_flow": null,
            "grid_area": null,
            "grid_template_columns": null,
            "flex": null,
            "_model_name": "LayoutModel",
            "justify_items": null,
            "grid_row": null,
            "max_height": null,
            "align_content": null,
            "visibility": null,
            "align_self": null,
            "height": null,
            "min_height": null,
            "padding": null,
            "grid_auto_rows": null,
            "grid_gap": null,
            "max_width": null,
            "order": null,
            "_view_module_version": "1.2.0",
            "grid_template_areas": null,
            "object_position": null,
            "object_fit": null,
            "grid_auto_columns": null,
            "margin": null,
            "display": null,
            "left": null
          }
        }
      }
    }
  },
  "cells": [
    {
      "cell_type": "code",
      "metadata": {
        "id": "tSW3Cq1FimxW"
      },
      "source": [
        "!pip install git+https://github.com/votchallenge/vot-toolkit-python\n",
        "!vot 'initialize' vot2017 --workspace /content/drive/MyDrive/Assignment4/vot-workspace"
      ],
      "execution_count": null,
      "outputs": []
    },
    {
      "cell_type": "markdown",
      "metadata": {
        "id": "FnFIazuwTiAQ"
      },
      "source": [
        "# Imports"
      ]
    },
    {
      "cell_type": "code",
      "metadata": {
        "id": "5_DAOkIvip29",
        "colab": {
          "base_uri": "https://localhost:8080/"
        },
        "outputId": "6c1d653c-df4c-414b-eb56-ea8c526f3c59"
      },
      "source": [
        "import os\n",
        "import numpy as np\n",
        "import pandas as pd\n",
        "from PIL import Image\n",
        "from time import time\n",
        "import datetime\n",
        "import random\n",
        "import sys\n",
        "from matplotlib import pyplot as plt\n",
        "from IPython.display import display\n",
        "import torch\n",
        "import torch.nn as nn\n",
        "import torchvision\n",
        "import torchvision.transforms as transforms\n",
        "from torchvision import models\n",
        "from torchsummary import summary\n",
        "from torch.utils.data import Dataset, DataLoader\n",
        "from torchvision import datasets, transforms\n",
        "from torch.autograd import Variable\n",
        "import matplotlib.pyplot as plt\n",
        "import matplotlib.patches as patches\n",
        "from PIL import Image\n",
        "import glob\n",
        "import matplotlib.pyplot as plt\n",
        "import matplotlib.image as mpimg\n",
        "import cv2\n",
        "from google.colab.patches import cv2_imshow\n",
        "import torchvision.transforms.functional as F\n",
        "import torch.optim as optim\n",
        "import torch.nn.functional as F1\n",
        "\n",
        "\n",
        "device = torch.device('cuda' if torch.cuda.is_available() else 'cpu')\n",
        "print('Using:', device)"
      ],
      "execution_count": 2,
      "outputs": [
        {
          "output_type": "stream",
          "text": [
            "Using: cuda\n"
          ],
          "name": "stdout"
        }
      ]
    },
    {
      "cell_type": "markdown",
      "metadata": {
        "id": "TEMnOaSmTZ7H"
      },
      "source": [
        "# Dataset Setup"
      ]
    },
    {
      "cell_type": "code",
      "metadata": {
        "id": "CjZaGvYSiubF"
      },
      "source": [
        "class_image_paths = []\n",
        "groundTruths = []\n",
        "path = \"/content/drive/MyDrive/Assignment4/vot-workspace/sequences\"\n",
        "class_image_paths = []\n",
        "class_count = 0\n",
        "for dir in os.listdir(path):\n",
        "    try:\n",
        "      class_count += 1\n",
        "      dirPath = path + \"/\" + dir\n",
        "      groundtruth = open(dirPath + \"/groundtruth.txt\", \"r\")\n",
        "      count = 0\n",
        "      for img in sorted(os.listdir(dirPath + \"/color/\")):\n",
        "          imgPath = dirPath + \"/color/\" + img\n",
        "          count += 1\n",
        "          class_image_paths.append([imgPath, class_count-1])\n",
        "          tempImg = Image.open(imgPath)\n",
        "          \n",
        "          groundTruths.append([imgPath, class_count-1, groundtruth.readline().strip(), tempImg])\n",
        "          \n",
        "      groundtruth.close()\n",
        "    except:\n",
        "      continue\n",
        "\n",
        "pairElements = []\n",
        "for i in range(len(groundTruths) - 1):\n",
        "  if (groundTruths[i][1] == groundTruths[i + 1][1]):\n",
        "    pairElements.append([groundTruths[i], groundTruths[i + 1]])\n",
        "\n",
        "\n",
        "random.shuffle(pairElements)\n",
        "\n",
        "\n"
      ],
      "execution_count": 3,
      "outputs": []
    },
    {
      "cell_type": "markdown",
      "metadata": {
        "id": "Mtgx5-DCkfcB"
      },
      "source": [
        "# Model Setup"
      ]
    },
    {
      "cell_type": "code",
      "metadata": {
        "id": "MFCOp_OlkiID",
        "colab": {
          "base_uri": "https://localhost:8080/",
          "height": 83,
          "referenced_widgets": [
            "6e9ddb990cc841078b5bf1c0f609d36a",
            "acbc42fc2eba4aaa846fdfe859273e57",
            "3c25eada2e754f1e91c7ae30751f9157",
            "e134a2a6cf6340ad94c5a277629cc76f",
            "dd27a746aeaa4f3887c6a61addb4098a",
            "70a1e4f0a3e3487fb343467cd6847a5a",
            "92622aa713164096ae7241ad8a78b9e4",
            "6004fd38052449b9b22ee53211eb504a"
          ]
        },
        "outputId": "d39fe007-9260-4c13-c2e5-9a4501a88401"
      },
      "source": [
        "class MyModel(nn.Module):\n",
        "    def __init__(self):\n",
        "        super(MyModel, self).__init__()\n",
        "\n",
        "        self.linear1 = nn.Linear(1024, 1024)\n",
        "        self.relu = nn.ReLU()\n",
        "        self.linear2 = nn.Linear(1024, 4)\n",
        "\n",
        "       \n",
        "\n",
        "\n",
        "    def forward(self, x):\n",
        "        residual = x\n",
        "        out = F1.relu(self.linear1(x))\n",
        "        out = F1.relu(self.linear1(out))\n",
        "        out = self.linear2(x+residual)\n",
        "        return out\n",
        "\n",
        "\n",
        "\n",
        "model = models.resnet18(pretrained=True)\n",
        "model.fc = nn.Sequential()\n",
        "myModel = MyModel().to(device)\n",
        "\n",
        "criterion = nn.MSELoss()\n",
        "optimizer = optim.Adam(myModel.parameters(),lr= 0.001)\n",
        "\n",
        "\n"
      ],
      "execution_count": 4,
      "outputs": [
        {
          "output_type": "stream",
          "text": [
            "Downloading: \"https://download.pytorch.org/models/resnet18-5c106cde.pth\" to /root/.cache/torch/hub/checkpoints/resnet18-5c106cde.pth\n"
          ],
          "name": "stderr"
        },
        {
          "output_type": "display_data",
          "data": {
            "application/vnd.jupyter.widget-view+json": {
              "model_id": "6e9ddb990cc841078b5bf1c0f609d36a",
              "version_minor": 0,
              "version_major": 2
            },
            "text/plain": [
              "HBox(children=(FloatProgress(value=0.0, max=46827520.0), HTML(value='')))"
            ]
          },
          "metadata": {
            "tags": []
          }
        },
        {
          "output_type": "stream",
          "text": [
            "\n"
          ],
          "name": "stdout"
        }
      ]
    },
    {
      "cell_type": "markdown",
      "metadata": {
        "id": "tpkZvkYRTpyw"
      },
      "source": [
        "# Crop The First Frame & Train"
      ]
    },
    {
      "cell_type": "code",
      "metadata": {
        "colab": {
          "base_uri": "https://localhost:8080/"
        },
        "id": "RgDzLrcvT_2k",
        "outputId": "398fadbf-4fb9-48b0-df85-5d0899258893"
      },
      "source": [
        "\n",
        "\n",
        "def cropImage(image):\n",
        "\n",
        "    # This part opens image and takes groundTruth, draw BB and crop image according to enlarged BB\n",
        "    firstFrame = cv2.imread(image[0][0])\n",
        "    groundTruthString = image[0][2]\n",
        "    coordinates = groundTruthString.split(\",\")\n",
        "    xCoordinatesOfGroundTruth = []\n",
        "    yCoordinatesOfGroundTruth = []\n",
        "    for i in range(0, len(coordinates), 2):\n",
        "      xCoordinatesOfGroundTruth.append(round(float((coordinates[i]))))\n",
        "      yCoordinatesOfGroundTruth.append(round(float((coordinates[i+1]))))\n",
        "\n",
        "    x_of_left_upper = min(xCoordinatesOfGroundTruth)\n",
        "    y_of_left_upper = min(yCoordinatesOfGroundTruth)\n",
        "\n",
        "    x_of_right_bottom = max(xCoordinatesOfGroundTruth)\n",
        "    y_of_right_bottom = max(yCoordinatesOfGroundTruth)\n",
        "\n",
        "    X_of_center_bounding_box = (x_of_left_upper + x_of_right_bottom) // 2\n",
        "    Y_of_center_bounding_box = (y_of_left_upper + y_of_right_bottom) // 2\n",
        "\n",
        "    xDiff = abs(X_of_center_bounding_box - x_of_left_upper)\n",
        "    yDiff = abs(Y_of_center_bounding_box - y_of_left_upper)\n",
        "\n",
        "    leftUpper = (x_of_left_upper, y_of_left_upper)\n",
        "    rightLower = (x_of_right_bottom, y_of_right_bottom)\n",
        "\n",
        "    cv2.rectangle(firstFrame, leftUpper, rightLower, (0, 255, 0), 1)    \n",
        "    croppedFirstImage = firstFrame[max(0, y_of_left_upper-yDiff):y_of_right_bottom+yDiff, max(0, x_of_left_upper-xDiff):x_of_right_bottom+xDiff]\n",
        "    \n",
        "\n",
        "\n",
        "\n",
        "\n",
        "    # This part crops second frame according to first frames coordinates\n",
        "    secondFrame = cv2.imread(image[1][0])\n",
        "\n",
        "    croppedSecondFrame = secondFrame[max(0, y_of_left_upper-yDiff):y_of_right_bottom+yDiff, max(0, x_of_left_upper-xDiff):x_of_right_bottom+xDiff]\n",
        "\n",
        "    cropped_X_Coordinates = [max(0, x_of_left_upper-xDiff), x_of_right_bottom+xDiff]\n",
        "    cropped_Y_Coordinates = [max(0, y_of_left_upper-yDiff), y_of_right_bottom+yDiff]\n",
        "\n",
        "    targetVector = []\n",
        "\n",
        "    predictGroundTruthString = image[1][2]\n",
        "    predictCoordinates = predictGroundTruthString.split(\",\")\n",
        "    x_coord_of_predict = []\n",
        "    y_coord_of_predict = []\n",
        "    for i in range(0, len(predictCoordinates), 2):\n",
        "      x_coord_of_predict.append((round(float((predictCoordinates[i])))))\n",
        "      y_coord_of_predict.append((round(float((predictCoordinates[i+1])))))\n",
        "  \n",
        "    x_of_left_upper = min(x_coord_of_predict)\n",
        "    y_of_left_upper = min(y_coord_of_predict)\n",
        "\n",
        "    x_of_right_bottom = max(x_coord_of_predict)\n",
        "    y_of_right_bottom = max(y_coord_of_predict)\n",
        "\n",
        "    X_of_center_bounding_box = (x_of_left_upper + x_of_right_bottom) // 2\n",
        "    Y_of_center_bounding_box = (y_of_left_upper + y_of_right_bottom) // 2\n",
        "\n",
        "    leftUpper = (x_of_left_upper, y_of_left_upper)\n",
        "    rightLower = (x_of_right_bottom, y_of_right_bottom)\n",
        "\n",
        "\n",
        "\n",
        "    # This part calculates target vector values\n",
        "    bigX = cropped_X_Coordinates[1]\n",
        "    bigY = cropped_Y_Coordinates[1]\n",
        "    smallX = cropped_X_Coordinates[0]\n",
        "    smallY = cropped_Y_Coordinates[0]\n",
        "\n",
        "\n",
        "    leftUpperX = leftUpper[0]\n",
        "    leftUpperY = leftUpper[1]\n",
        "    rightLowerX = rightLower[0]\n",
        "    rightLowerY = rightLower[1]\n",
        "\n",
        "    \n",
        "    c = 224 * (bigX-rightLowerX) // (bigX - smallX)\n",
        "    d = 224 * (bigY-rightLowerY) // (bigY - smallY)\n",
        "\n",
        "    a = 224 * (bigX-leftUpperX) // (bigX - smallX)\n",
        "    b = 224 * (bigY-leftUpperY) // (bigY - smallY)\n",
        "\n",
        "    resultFrame = cv2.resize(croppedFirstImage, (224, 224))\n",
        "    cv2.rectangle(resultFrame, (a, b), (c, d), (0, 0, 255), 2)    \n",
        "\n",
        "    targetVector.append([abs(a), abs(b), abs(c), abs(d)])\n",
        "    \n",
        "    cropCord = [smallX, smallY, bigX, bigY]\n",
        "\n",
        "    return torch.tensor(cv2.resize(croppedFirstImage, (224, 224))).unsqueeze(1).permute(1, 3, 0, 2).to(torch.float32), torch.tensor(cv2.resize(croppedSecondFrame, (224, 224))).unsqueeze(1).permute(1, 3, 0, 2).to(torch.float32), targetVector, cropCord\n",
        "\n",
        "\n",
        "\n",
        "\n",
        "\n",
        "\n",
        "\n",
        "\n",
        "random.shuffle(pairElements)\n",
        "trainSet = pairElements[0:14197]\n",
        "testSet = pairElements[14197:]\n",
        "\n",
        "\n",
        "\n",
        "\n",
        "epoch = 30\n",
        "for i in range(epoch):  \n",
        "  epoch_loss = []\n",
        "  start_time = time()  \n",
        "  for j in range(len(trainSet)):\n",
        "\n",
        "    firstFrame, secondFrame, targetVector, _ = cropImage(trainSet[j])\n",
        "    targetVector = torch.tensor(targetVector).to(torch.float32)\n",
        "\n",
        "    output1 = model(firstFrame)\n",
        "    output2 = model(secondFrame)\n",
        "    resultVector = torch.cat((output1, output2), 1)\n",
        "    output3 = myModel(resultVector.to(device))\n",
        "\n",
        "    \n",
        "    loss = criterion(output3.to(device), targetVector.to(device))\n",
        "    optimizer.zero_grad()\n",
        "    loss.backward()\n",
        "    optimizer.step()\n",
        "    epoch_loss.append(loss.item())\n",
        "    \n",
        "    \n",
        "    \n",
        "  end_time = time()\n",
        "  print(\"Epoch = \", i, \"Loss = \", sum(epoch_loss)/len(epoch_loss))\n",
        "  \n",
        "\n"
      ],
      "execution_count": 22,
      "outputs": [
        {
          "output_type": "stream",
          "text": [
            "Epoch =  0 Loss =  527.1806200027465\n",
            "Epoch =  1 Loss =  443.37292938232423\n",
            "Epoch =  2 Loss =  425.6424850463867\n",
            "Epoch =  3 Loss =  416.36414947509763\n",
            "Epoch =  4 Loss =  416.35582733154297\n"
          ],
          "name": "stdout"
        }
      ]
    },
    {
      "cell_type": "markdown",
      "metadata": {
        "id": "Lp0aEjAul-8E"
      },
      "source": [
        "# Testing"
      ]
    },
    {
      "cell_type": "code",
      "metadata": {
        "id": "HrUErkPci_El",
        "colab": {
          "base_uri": "https://localhost:8080/",
          "height": 215
        },
        "outputId": "94d79fc9-68b3-44c4-df3f-48b4e9162d1c"
      },
      "source": [
        "\n",
        "test_loss = 0\n",
        "start_time = time()\n",
        "\n",
        "accuracy = []\n",
        "\n",
        "\n",
        "\n",
        "\n",
        "with torch.no_grad():\n",
        "    for i in range(len(testSet)):\n",
        "        firstFrame, secondFrame, targetVector, cropCord = cropImage(testSet[i])\n",
        "\n",
        "        targetVector = torch.tensor(targetVector).to(torch.float32)\n",
        "\n",
        "        output1 = model(firstFrame)\n",
        "        output2 = model(secondFrame)\n",
        "        resultVector = torch.cat((output1, output2), 1)\n",
        "\n",
        "        output3 = myModel(resultVector.to(device))\n",
        "        \n",
        "        output3 = output3.tolist()[0]\n",
        "        \n",
        "        originalSecondFrame = cv2.imread(testSet[i][1][0])\n",
        "\n",
        "        croppedBoxedSecondFrame = originalSecondFrame[cropCord[1]:cropCord[3], cropCord[0]:cropCord[2]]\n",
        "        \n",
        "        myShape = croppedBoxedSecondFrame.shape\n",
        "        croppedBoxedSecondFrame = cv2.resize(croppedBoxedSecondFrame, (224,224))\n",
        "\n",
        "\n",
        "        a = int(round(output3[0]))\n",
        "        b = int(round(output3[1]))\n",
        "        c = int(round(output3[2]))\n",
        "        d = int(round(output3[3]))\n",
        "\n",
        "\n",
        "        drawedRectangle = cv2.rectangle(croppedBoxedSecondFrame, (a,b), (c,d), (255,255,0), 3)\n",
        "\n",
        "        finalCordX1 = (a * myShape[1] // 224) + cropCord[0]\n",
        "        finalCordY1 = (b * myShape[0] // 224) + cropCord[1]\n",
        "        finalCordX2 = (c * myShape[1] // 224) + cropCord[0]\n",
        "        finalCordY2 = (d * myShape[0] // 224) + cropCord[1]\n",
        "\n",
        "        drawedRectangle = cv2.rectangle(originalSecondFrame, (finalCordX1,finalCordY1), (finalCordX2,finalCordY2), (0, 0, 255), 2)        \n",
        "        \n",
        "        coordinates = testSet[i][1][2].split(\",\")\n",
        "        \n",
        "        xCoordinatesOfGroundTruth = []\n",
        "        yCoordinatesOfGroundTruth = []\n",
        "        for j in range(0, len(coordinates), 2):\n",
        "          xCoordinatesOfGroundTruth.append(round(float((coordinates[j]))))\n",
        "          yCoordinatesOfGroundTruth.append(round(float((coordinates[j+1]))))\n",
        "\n",
        "        x_of_left_upper = min(xCoordinatesOfGroundTruth)\n",
        "        y_of_left_upper = min(yCoordinatesOfGroundTruth)\n",
        "\n",
        "        x_of_right_bottom = max(xCoordinatesOfGroundTruth)\n",
        "        y_of_right_bottom = max(yCoordinatesOfGroundTruth)\n",
        "\n",
        "        X_of_center_bounding_box = (x_of_left_upper + x_of_right_bottom) // 2\n",
        "        Y_of_center_bounding_box = (y_of_left_upper + y_of_right_bottom) // 2\n",
        "\n",
        "        xDiff = abs(X_of_center_bounding_box - x_of_left_upper)\n",
        "        yDiff = abs(Y_of_center_bounding_box - y_of_left_upper)\n",
        "\n",
        "        leftUpper = (x_of_left_upper, y_of_left_upper)\n",
        "        rightLower = (x_of_right_bottom, y_of_right_bottom)\n",
        "\n",
        "        cv2.rectangle(originalSecondFrame, leftUpper, rightLower, (255, 255, 0), 2)\n",
        "        \n",
        "\n",
        "\n",
        "        # there is break for seeing single image if you want see test  please comment imshow and break\n",
        "        plt.axis(\"off\")\n",
        "        plt.imshow(originalSecondFrame)\n",
        "        \n",
        "        break\n",
        "\n",
        "        \n",
        "        \n",
        "\n",
        "\n",
        "  "
      ],
      "execution_count": 35,
      "outputs": [
        {
          "output_type": "display_data",
          "data": {
            "image/png": "[encoded data removed]",
            "text/plain": [
              "<Figure size 432x288 with 1 Axes>"
            ]
          },
          "metadata": {
            "tags": [],
            "needs_background": "light"
          }
        }
      ]
    }
  ]
}